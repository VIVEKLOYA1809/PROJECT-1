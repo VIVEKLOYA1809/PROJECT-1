{
 "cells": [
  {
   "cell_type": "code",
   "execution_count": 44,
   "id": "ab2b5542",
   "metadata": {},
   "outputs": [],
   "source": [
    "import pandas as pd\n",
    "import numpy as np\n",
    "#here we imported pandas and numpy libraries#"
   ]
  },
  {
   "cell_type": "code",
   "execution_count": 85,
   "id": "4307c4da",
   "metadata": {},
   "outputs": [],
   "source": [
    "dataset=pd.read_csv(\"crx.data\",header=None)\n",
    "X=dataset.iloc[:,:-1].values\n",
    "Y=dataset.iloc[:,-1].values\n",
    "#here we imported the file and assigned X and Y terms to its value#"
   ]
  },
  {
   "cell_type": "code",
   "execution_count": null,
   "id": "1f67e77f",
   "metadata": {},
   "outputs": [],
   "source": [
    "p=[]\n",
    "for i in range(0,dataset.shape[1]-1):\n",
    "    try:\n",
    "        if X[0,i].isalpha():\n",
    "            p.append(i)\n",
    "    except :\n",
    "        continue\n",
    "p\n",
    "#here we get the columns which have alphabetical characters#"
   ]
  },
  {
   "cell_type": "code",
   "execution_count": null,
   "id": "7cea80b5",
   "metadata": {},
   "outputs": [],
   "source": [
    "from sklearn.preprocessing import LabelEncoder\n",
    "le=LabelEncoder()\n",
    "dataset.iloc[:,-1]=le.fit_transform(dataset.iloc[:,-1])\n",
    "for i in p:\n",
    "    dataset.iloc[:,i]=le.fit_transform(dataset.iloc[:,i])\n",
    "#using label encoder we converted alphabets to integers#"
   ]
  },
  {
   "cell_type": "code",
   "execution_count": 88,
   "id": "a89e05fd",
   "metadata": {},
   "outputs": [
    {
     "data": {
      "text/html": [
       "<div>\n",
       "<style scoped>\n",
       "    .dataframe tbody tr th:only-of-type {\n",
       "        vertical-align: middle;\n",
       "    }\n",
       "\n",
       "    .dataframe tbody tr th {\n",
       "        vertical-align: top;\n",
       "    }\n",
       "\n",
       "    .dataframe thead th {\n",
       "        text-align: right;\n",
       "    }\n",
       "</style>\n",
       "<table border=\"1\" class=\"dataframe\">\n",
       "  <thead>\n",
       "    <tr style=\"text-align: right;\">\n",
       "      <th></th>\n",
       "      <th>0</th>\n",
       "      <th>2</th>\n",
       "      <th>3</th>\n",
       "      <th>4</th>\n",
       "      <th>5</th>\n",
       "      <th>6</th>\n",
       "      <th>7</th>\n",
       "      <th>8</th>\n",
       "      <th>9</th>\n",
       "      <th>10</th>\n",
       "      <th>11</th>\n",
       "      <th>12</th>\n",
       "      <th>14</th>\n",
       "      <th>15</th>\n",
       "    </tr>\n",
       "  </thead>\n",
       "  <tbody>\n",
       "    <tr>\n",
       "      <th>0</th>\n",
       "      <td>1.000000</td>\n",
       "      <td>-0.013967</td>\n",
       "      <td>0.044990</td>\n",
       "      <td>0.047057</td>\n",
       "      <td>0.004854</td>\n",
       "      <td>0.062229</td>\n",
       "      <td>0.099863</td>\n",
       "      <td>0.025241</td>\n",
       "      <td>-0.045808</td>\n",
       "      <td>0.006799</td>\n",
       "      <td>0.052396</td>\n",
       "      <td>0.058113</td>\n",
       "      <td>0.008504</td>\n",
       "      <td>-0.000648</td>\n",
       "    </tr>\n",
       "    <tr>\n",
       "      <th>2</th>\n",
       "      <td>-0.013967</td>\n",
       "      <td>1.000000</td>\n",
       "      <td>-0.047608</td>\n",
       "      <td>-0.068773</td>\n",
       "      <td>0.027622</td>\n",
       "      <td>-0.016451</td>\n",
       "      <td>0.298902</td>\n",
       "      <td>0.244317</td>\n",
       "      <td>0.174846</td>\n",
       "      <td>0.271207</td>\n",
       "      <td>-0.013023</td>\n",
       "      <td>-0.122233</td>\n",
       "      <td>0.123121</td>\n",
       "      <td>-0.206294</td>\n",
       "    </tr>\n",
       "    <tr>\n",
       "      <th>3</th>\n",
       "      <td>0.044990</td>\n",
       "      <td>-0.047608</td>\n",
       "      <td>1.000000</td>\n",
       "      <td>0.942463</td>\n",
       "      <td>0.011832</td>\n",
       "      <td>0.063158</td>\n",
       "      <td>-0.048423</td>\n",
       "      <td>-0.078851</td>\n",
       "      <td>-0.114926</td>\n",
       "      <td>-0.077948</td>\n",
       "      <td>0.029057</td>\n",
       "      <td>-0.094585</td>\n",
       "      <td>-0.101102</td>\n",
       "      <td>0.191431</td>\n",
       "    </tr>\n",
       "    <tr>\n",
       "      <th>4</th>\n",
       "      <td>0.047057</td>\n",
       "      <td>-0.068773</td>\n",
       "      <td>0.942463</td>\n",
       "      <td>1.000000</td>\n",
       "      <td>-0.038876</td>\n",
       "      <td>-0.003989</td>\n",
       "      <td>-0.065497</td>\n",
       "      <td>-0.129863</td>\n",
       "      <td>-0.162464</td>\n",
       "      <td>-0.106457</td>\n",
       "      <td>0.015342</td>\n",
       "      <td>-0.036095</td>\n",
       "      <td>-0.022904</td>\n",
       "      <td>0.187520</td>\n",
       "    </tr>\n",
       "    <tr>\n",
       "      <th>5</th>\n",
       "      <td>0.004854</td>\n",
       "      <td>0.027622</td>\n",
       "      <td>0.011832</td>\n",
       "      <td>-0.038876</td>\n",
       "      <td>1.000000</td>\n",
       "      <td>0.057192</td>\n",
       "      <td>0.040598</td>\n",
       "      <td>0.113752</td>\n",
       "      <td>0.132744</td>\n",
       "      <td>0.009907</td>\n",
       "      <td>0.077824</td>\n",
       "      <td>-0.018090</td>\n",
       "      <td>0.005907</td>\n",
       "      <td>-0.129398</td>\n",
       "    </tr>\n",
       "    <tr>\n",
       "      <th>6</th>\n",
       "      <td>0.062229</td>\n",
       "      <td>-0.016451</td>\n",
       "      <td>0.063158</td>\n",
       "      <td>-0.003989</td>\n",
       "      <td>0.057192</td>\n",
       "      <td>1.000000</td>\n",
       "      <td>-0.074281</td>\n",
       "      <td>-0.002135</td>\n",
       "      <td>0.032440</td>\n",
       "      <td>-0.015461</td>\n",
       "      <td>0.020007</td>\n",
       "      <td>-0.016338</td>\n",
       "      <td>-0.009131</td>\n",
       "      <td>-0.000877</td>\n",
       "    </tr>\n",
       "    <tr>\n",
       "      <th>7</th>\n",
       "      <td>0.099863</td>\n",
       "      <td>0.298902</td>\n",
       "      <td>-0.048423</td>\n",
       "      <td>-0.065497</td>\n",
       "      <td>0.040598</td>\n",
       "      <td>-0.074281</td>\n",
       "      <td>1.000000</td>\n",
       "      <td>0.345689</td>\n",
       "      <td>0.222982</td>\n",
       "      <td>0.322330</td>\n",
       "      <td>0.138139</td>\n",
       "      <td>-0.020528</td>\n",
       "      <td>0.051345</td>\n",
       "      <td>-0.322475</td>\n",
       "    </tr>\n",
       "    <tr>\n",
       "      <th>8</th>\n",
       "      <td>0.025241</td>\n",
       "      <td>0.244317</td>\n",
       "      <td>-0.078851</td>\n",
       "      <td>-0.129863</td>\n",
       "      <td>0.113752</td>\n",
       "      <td>-0.002135</td>\n",
       "      <td>0.345689</td>\n",
       "      <td>1.000000</td>\n",
       "      <td>0.432032</td>\n",
       "      <td>0.379532</td>\n",
       "      <td>0.091276</td>\n",
       "      <td>-0.113623</td>\n",
       "      <td>0.090012</td>\n",
       "      <td>-0.720407</td>\n",
       "    </tr>\n",
       "    <tr>\n",
       "      <th>9</th>\n",
       "      <td>-0.045808</td>\n",
       "      <td>0.174846</td>\n",
       "      <td>-0.114926</td>\n",
       "      <td>-0.162464</td>\n",
       "      <td>0.132744</td>\n",
       "      <td>0.032440</td>\n",
       "      <td>0.222982</td>\n",
       "      <td>0.432032</td>\n",
       "      <td>1.000000</td>\n",
       "      <td>0.571498</td>\n",
       "      <td>0.017043</td>\n",
       "      <td>-0.242568</td>\n",
       "      <td>0.077652</td>\n",
       "      <td>-0.458301</td>\n",
       "    </tr>\n",
       "    <tr>\n",
       "      <th>10</th>\n",
       "      <td>0.006799</td>\n",
       "      <td>0.271207</td>\n",
       "      <td>-0.077948</td>\n",
       "      <td>-0.106457</td>\n",
       "      <td>0.009907</td>\n",
       "      <td>-0.015461</td>\n",
       "      <td>0.322330</td>\n",
       "      <td>0.379532</td>\n",
       "      <td>0.571498</td>\n",
       "      <td>1.000000</td>\n",
       "      <td>0.006944</td>\n",
       "      <td>-0.139527</td>\n",
       "      <td>0.063692</td>\n",
       "      <td>-0.406410</td>\n",
       "    </tr>\n",
       "    <tr>\n",
       "      <th>11</th>\n",
       "      <td>0.052396</td>\n",
       "      <td>-0.013023</td>\n",
       "      <td>0.029057</td>\n",
       "      <td>0.015342</td>\n",
       "      <td>0.077824</td>\n",
       "      <td>0.020007</td>\n",
       "      <td>0.138139</td>\n",
       "      <td>0.091276</td>\n",
       "      <td>0.017043</td>\n",
       "      <td>0.006944</td>\n",
       "      <td>1.000000</td>\n",
       "      <td>0.005883</td>\n",
       "      <td>0.019201</td>\n",
       "      <td>-0.031625</td>\n",
       "    </tr>\n",
       "    <tr>\n",
       "      <th>12</th>\n",
       "      <td>0.058113</td>\n",
       "      <td>-0.122233</td>\n",
       "      <td>-0.094585</td>\n",
       "      <td>-0.036095</td>\n",
       "      <td>-0.018090</td>\n",
       "      <td>-0.016338</td>\n",
       "      <td>-0.020528</td>\n",
       "      <td>-0.113623</td>\n",
       "      <td>-0.242568</td>\n",
       "      <td>-0.139527</td>\n",
       "      <td>0.005883</td>\n",
       "      <td>1.000000</td>\n",
       "      <td>-0.012017</td>\n",
       "      <td>0.100867</td>\n",
       "    </tr>\n",
       "    <tr>\n",
       "      <th>14</th>\n",
       "      <td>0.008504</td>\n",
       "      <td>0.123121</td>\n",
       "      <td>-0.101102</td>\n",
       "      <td>-0.022904</td>\n",
       "      <td>0.005907</td>\n",
       "      <td>-0.009131</td>\n",
       "      <td>0.051345</td>\n",
       "      <td>0.090012</td>\n",
       "      <td>0.077652</td>\n",
       "      <td>0.063692</td>\n",
       "      <td>0.019201</td>\n",
       "      <td>-0.012017</td>\n",
       "      <td>1.000000</td>\n",
       "      <td>-0.175657</td>\n",
       "    </tr>\n",
       "    <tr>\n",
       "      <th>15</th>\n",
       "      <td>-0.000648</td>\n",
       "      <td>-0.206294</td>\n",
       "      <td>0.191431</td>\n",
       "      <td>0.187520</td>\n",
       "      <td>-0.129398</td>\n",
       "      <td>-0.000877</td>\n",
       "      <td>-0.322475</td>\n",
       "      <td>-0.720407</td>\n",
       "      <td>-0.458301</td>\n",
       "      <td>-0.406410</td>\n",
       "      <td>-0.031625</td>\n",
       "      <td>0.100867</td>\n",
       "      <td>-0.175657</td>\n",
       "      <td>1.000000</td>\n",
       "    </tr>\n",
       "  </tbody>\n",
       "</table>\n",
       "</div>"
      ],
      "text/plain": [
       "          0         2         3         4         5         6         7   \\\n",
       "0   1.000000 -0.013967  0.044990  0.047057  0.004854  0.062229  0.099863   \n",
       "2  -0.013967  1.000000 -0.047608 -0.068773  0.027622 -0.016451  0.298902   \n",
       "3   0.044990 -0.047608  1.000000  0.942463  0.011832  0.063158 -0.048423   \n",
       "4   0.047057 -0.068773  0.942463  1.000000 -0.038876 -0.003989 -0.065497   \n",
       "5   0.004854  0.027622  0.011832 -0.038876  1.000000  0.057192  0.040598   \n",
       "6   0.062229 -0.016451  0.063158 -0.003989  0.057192  1.000000 -0.074281   \n",
       "7   0.099863  0.298902 -0.048423 -0.065497  0.040598 -0.074281  1.000000   \n",
       "8   0.025241  0.244317 -0.078851 -0.129863  0.113752 -0.002135  0.345689   \n",
       "9  -0.045808  0.174846 -0.114926 -0.162464  0.132744  0.032440  0.222982   \n",
       "10  0.006799  0.271207 -0.077948 -0.106457  0.009907 -0.015461  0.322330   \n",
       "11  0.052396 -0.013023  0.029057  0.015342  0.077824  0.020007  0.138139   \n",
       "12  0.058113 -0.122233 -0.094585 -0.036095 -0.018090 -0.016338 -0.020528   \n",
       "14  0.008504  0.123121 -0.101102 -0.022904  0.005907 -0.009131  0.051345   \n",
       "15 -0.000648 -0.206294  0.191431  0.187520 -0.129398 -0.000877 -0.322475   \n",
       "\n",
       "          8         9         10        11        12        14        15  \n",
       "0   0.025241 -0.045808  0.006799  0.052396  0.058113  0.008504 -0.000648  \n",
       "2   0.244317  0.174846  0.271207 -0.013023 -0.122233  0.123121 -0.206294  \n",
       "3  -0.078851 -0.114926 -0.077948  0.029057 -0.094585 -0.101102  0.191431  \n",
       "4  -0.129863 -0.162464 -0.106457  0.015342 -0.036095 -0.022904  0.187520  \n",
       "5   0.113752  0.132744  0.009907  0.077824 -0.018090  0.005907 -0.129398  \n",
       "6  -0.002135  0.032440 -0.015461  0.020007 -0.016338 -0.009131 -0.000877  \n",
       "7   0.345689  0.222982  0.322330  0.138139 -0.020528  0.051345 -0.322475  \n",
       "8   1.000000  0.432032  0.379532  0.091276 -0.113623  0.090012 -0.720407  \n",
       "9   0.432032  1.000000  0.571498  0.017043 -0.242568  0.077652 -0.458301  \n",
       "10  0.379532  0.571498  1.000000  0.006944 -0.139527  0.063692 -0.406410  \n",
       "11  0.091276  0.017043  0.006944  1.000000  0.005883  0.019201 -0.031625  \n",
       "12 -0.113623 -0.242568 -0.139527  0.005883  1.000000 -0.012017  0.100867  \n",
       "14  0.090012  0.077652  0.063692  0.019201 -0.012017  1.000000 -0.175657  \n",
       "15 -0.720407 -0.458301 -0.406410 -0.031625  0.100867 -0.175657  1.000000  "
      ]
     },
     "execution_count": 88,
     "metadata": {},
     "output_type": "execute_result"
    }
   ],
   "source": [
    "dataset.corr()"
   ]
  },
  {
   "cell_type": "code",
   "execution_count": 89,
   "id": "d58bd320",
   "metadata": {},
   "outputs": [
    {
     "data": {
      "text/plain": [
       "<AxesSubplot:>"
      ]
     },
     "execution_count": 89,
     "metadata": {},
     "output_type": "execute_result"
    },
    {
     "data": {
      "image/png": "[encoded data removed]",
      "text/plain": [
       "<Figure size 432x288 with 2 Axes>"
      ]
     },
     "metadata": {
      "needs_background": "light"
     },
     "output_type": "display_data"
    }
   ],
   "source": [
    "import seaborn as sns\n",
    "sns.heatmap(dataset.corr(),cmap='Blues')"
   ]
  },
  {
   "cell_type": "code",
   "execution_count": 90,
   "id": "fb56d7a5",
   "metadata": {},
   "outputs": [
    {
     "data": {
      "text/plain": [
       "0     0\n",
       "1     0\n",
       "2     0\n",
       "3     0\n",
       "4     0\n",
       "5     0\n",
       "6     0\n",
       "7     0\n",
       "8     0\n",
       "9     0\n",
       "10    0\n",
       "11    0\n",
       "12    0\n",
       "13    0\n",
       "14    0\n",
       "15    0\n",
       "dtype: int64"
      ]
     },
     "execution_count": 90,
     "metadata": {},
     "output_type": "execute_result"
    }
   ],
   "source": [
    "dataset.isnull().sum()"
   ]
  },
  {
   "cell_type": "code",
   "execution_count": 91,
   "id": "5ede911f",
   "metadata": {},
   "outputs": [],
   "source": [
    "#replacing ? with nan#\n",
    "for i in range(len(dataset)-1):\n",
    "    if X[i,1]=='?':\n",
    "        dataset=dataset.replace(X[i,1],np.nan)\n"
   ]
  },
  {
   "cell_type": "code",
   "execution_count": 67,
   "id": "b7f12b4c",
   "metadata": {},
   "outputs": [
    {
     "data": {
      "text/plain": [
       "0     0\n",
       "1     0\n",
       "2     0\n",
       "3     0\n",
       "4     0\n",
       "5     0\n",
       "6     0\n",
       "7     0\n",
       "8     0\n",
       "9     0\n",
       "10    0\n",
       "11    0\n",
       "12    0\n",
       "13    0\n",
       "14    0\n",
       "dtype: int64"
      ]
     },
     "execution_count": 67,
     "metadata": {},
     "output_type": "execute_result"
    }
   ],
   "source": []
  },
  {
   "cell_type": "code",
   "execution_count": 92,
   "id": "7d5a0baf",
   "metadata": {},
   "outputs": [],
   "source": [
    "dataset=dataset.dropna()"
   ]
  },
  {
   "cell_type": "code",
   "execution_count": 93,
   "id": "d2d55b2f",
   "metadata": {},
   "outputs": [],
   "source": [
    "X=dataset.iloc[:,:-1].values\n",
    "Y=dataset.iloc[:,-1].values"
   ]
  },
  {
   "cell_type": "code",
   "execution_count": null,
   "id": "04a5ba6e",
   "metadata": {},
   "outputs": [],
   "source": []
  },
  {
   "cell_type": "code",
   "execution_count": 98,
   "id": "f6c6b7c4",
   "metadata": {},
   "outputs": [],
   "source": [
    "from sklearn.discriminant_analysis import LinearDiscriminantAnalysis as LDA\n",
    "lda=LDA()\n",
    "X=lda.fit_transform(X,Y)"
   ]
  },
  {
   "cell_type": "code",
   "execution_count": 99,
   "id": "83af177c",
   "metadata": {
    "scrolled": true
   },
   "outputs": [],
   "source": [
    "from sklearn.model_selection import train_test_split as tts\n",
    "X_train,X_test,Y_train,Y_test=tts(X,Y,test_size=.2,random_state=0)"
   ]
  },
  {
   "cell_type": "code",
   "execution_count": 100,
   "id": "2ee2233b",
   "metadata": {},
   "outputs": [
    {
     "name": "stdout",
     "output_type": "stream",
     "text": [
      "[15:42:19] WARNING: C:/Users/Administrator/workspace/xgboost-win64_release_1.5.1/src/learner.cc:1115: Starting in XGBoost 1.3.0, the default evaluation metric used with the objective 'binary:logistic' was changed from 'error' to 'logloss'. Explicitly set eval_metric if you'd like to restore the old behavior.\n"
     ]
    },
    {
     "data": {
      "text/plain": [
       "XGBClassifier(base_score=0.5, booster='gbtree', colsample_bylevel=1,\n",
       "              colsample_bynode=1, colsample_bytree=1, enable_categorical=False,\n",
       "              gamma=0, gpu_id=-1, importance_type=None,\n",
       "              interaction_constraints='', learning_rate=0.300000012,\n",
       "              max_delta_step=0, max_depth=6, min_child_weight=1, missing=nan,\n",
       "              monotone_constraints='()', n_estimators=100, n_jobs=8,\n",
       "              num_parallel_tree=1, predictor='auto', random_state=0,\n",
       "              reg_alpha=0, reg_lambda=1, scale_pos_weight=1, subsample=1,\n",
       "              tree_method='exact', use_label_encoder=False,\n",
       "              validate_parameters=1, verbosity=None)"
      ]
     },
     "execution_count": 100,
     "metadata": {},
     "output_type": "execute_result"
    }
   ],
   "source": [
    "from xgboost import XGBClassifier\n",
    "xgb=XGBClassifier(use_label_encoder=False)\n",
    "xgb.fit(X_train,Y_train)"
   ]
  },
  {
   "cell_type": "code",
   "execution_count": 101,
   "id": "8c7e0876",
   "metadata": {},
   "outputs": [],
   "source": [
    "y_pred=xgb.predict(X_test)"
   ]
  },
  {
   "cell_type": "code",
   "execution_count": 102,
   "id": "0a10de49",
   "metadata": {},
   "outputs": [
    {
     "data": {
      "text/plain": [
       "0.8208955223880597"
      ]
     },
     "execution_count": 102,
     "metadata": {},
     "output_type": "execute_result"
    }
   ],
   "source": [
    "from sklearn.metrics import accuracy_score\n",
    "accuracy_score(Y_test,y_pred)"
   ]
  },
  {
   "cell_type": "code",
   "execution_count": null,
   "id": "df827c6d",
   "metadata": {},
   "outputs": [],
   "source": []
  },
  {
   "cell_type": "code",
   "execution_count": null,
   "id": "f0212593",
   "metadata": {},
   "outputs": [],
   "source": []
  },
  {
   "cell_type": "code",
   "execution_count": null,
   "id": "43d20d10",
   "metadata": {},
   "outputs": [],
   "source": []
  },
  {
   "cell_type": "code",
   "execution_count": null,
   "id": "a2f15078",
   "metadata": {},
   "outputs": [],
   "source": []
  },
  {
   "cell_type": "code",
   "execution_count": null,
   "id": "6e2e4310",
   "metadata": {},
   "outputs": [],
   "source": []
  },
  {
   "cell_type": "code",
   "execution_count": null,
   "id": "ea2d10d0",
   "metadata": {},
   "outputs": [],
   "source": []
  },
  {
   "cell_type": "code",
   "execution_count": null,
   "id": "ba10f833",
   "metadata": {},
   "outputs": [],
   "source": []
  }
 ],
 "metadata": {
  "kernelspec": {
   "display_name": "Python 3 (ipykernel)",
   "language": "python",
   "name": "python3"
  },
  "language_info": {
   "codemirror_mode": {
    "name": "ipython",
    "version": 3
   },
   "file_extension": ".py",
   "mimetype": "text/x-python",
   "name": "python",
   "nbconvert_exporter": "python",
   "pygments_lexer": "ipython3",
   "version": "3.9.7"
  }
 },
 "nbformat": 4,
 "nbformat_minor": 5
}
